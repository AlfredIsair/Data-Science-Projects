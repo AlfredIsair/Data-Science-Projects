{
 "cells": [
  {
   "cell_type": "markdown",
   "id": "374798a9",
   "metadata": {},
   "source": [
    "# Introduction\n",
    "In this analysis, we delve into the purchasing behavior of customers with a focus on chip products. We have been engaged by the Category Manager for Chips at Quantium to gain a comprehensive understanding of the types of customers who buy chips and to explore their purchasing patterns within the region. The insights derived from this analysis will play a crucial role in shaping the strategic direction of the chip category for the upcoming half year."
   ]
  },
  {
   "cell_type": "markdown",
   "id": "0a04a6fd",
   "metadata": {},
   "source": [
    "# About the Datasets\n",
    "\n",
    "The Task contains 2 dataset i.e Transaction_data  and Purchase_behaviour.When combined we get the following columns\n",
    "\n",
    "DATE:  The date of the transaction.\n",
    "\n",
    "STORE_NBR: Store number, identifying which store the transaction took place in. \n",
    "\n",
    "LYLTY_CARD_NBR: Loyalty card number, which identifies the customer. \n",
    "\n",
    "TXN_ID: Transaction ID, a unique identifier for each transaction.\n",
    "\n",
    "PROD_NBR: Product number, identifying which product was purchased.\n",
    "\n",
    "PROD_NAME: Name or description of the product.\n",
    "\n",
    "PROD_QTY: Quantity of the product purchased in the transaction.\n",
    "\n",
    "TOT_SALES: Total sales amount for the transaction.\n",
    "\n",
    "LIFESTAGE: Customer attribute identifying the stage of life they are in (e.g., young singles/couples, retirees, etc.). \n",
    "\n",
    "PREMIUM_CUSTOMER: Customer segmentation based on purchasing behavior and preferences (e.g., budget, mainstream, premium).\n"
   ]
  },
  {
   "cell_type": "markdown",
   "id": "43dbfd79",
   "metadata": {},
   "source": [
    "## Import Libraries"
   ]
  },
  {
   "cell_type": "code",
   "execution_count": 1,
   "id": "b10cd6f3",
   "metadata": {},
   "outputs": [],
   "source": [
    "#for data cleaning\n",
    "import pandas as pd \n",
    "import numpy as np\n",
    "\n",
    "#for data visualization\n",
    "import matplotlib.pyplot as plt\n",
    "import seaborn as sns"
   ]
  },
  {
   "cell_type": "code",
   "execution_count": 2,
   "id": "6d64edf1",
   "metadata": {},
   "outputs": [],
   "source": [
    "#Load the Transaction data\n",
    "df=pd.read_excel(\"./Desktop/FORAGE INTERNSHIPS/Quantium/QVI_transaction_data.xlsx\")"
   ]
  },
  {
   "cell_type": "code",
   "execution_count": 3,
   "id": "1324331c",
   "metadata": {},
   "outputs": [
    {
     "data": {
      "text/plain": [
       "(264836, 8)"
      ]
     },
     "execution_count": 3,
     "metadata": {},
     "output_type": "execute_result"
    }
   ],
   "source": [
    "#shape of the data\n",
    "df.shape"
   ]
  },
  {
   "cell_type": "markdown",
   "id": "026a9e06",
   "metadata": {},
   "source": [
    "The tuple returned (264836, 8), which means the data has 264836 rows and 8 columns"
   ]
  },
  {
   "cell_type": "code",
   "execution_count": 4,
   "id": "a44059b4",
   "metadata": {},
   "outputs": [],
   "source": [
    "#Load the Purchase behaviour dataset\n",
    "data=pd.read_csv(\"./Desktop/FORAGE INTERNSHIPS/Quantium/QVI_purchase_behaviour.csv\")"
   ]
  },
  {
   "cell_type": "code",
   "execution_count": 5,
   "id": "3ecd2c2f",
   "metadata": {},
   "outputs": [
    {
     "data": {
      "text/plain": [
       "(72637, 3)"
      ]
     },
     "execution_count": 5,
     "metadata": {},
     "output_type": "execute_result"
    }
   ],
   "source": [
    "data.shape\n"
   ]
  },
  {
   "cell_type": "markdown",
   "id": "c1acb91a",
   "metadata": {},
   "source": [
    "This shows that the Dataset has 72637 rows and 3 columns"
   ]
  },
  {
   "cell_type": "code",
   "execution_count": 6,
   "id": "81559296",
   "metadata": {},
   "outputs": [
    {
     "name": "stdout",
     "output_type": "stream",
     "text": [
      "<class 'pandas.core.frame.DataFrame'>\n",
      "RangeIndex: 264836 entries, 0 to 264835\n",
      "Data columns (total 8 columns):\n",
      " #   Column          Non-Null Count   Dtype  \n",
      "---  ------          --------------   -----  \n",
      " 0   DATE            264836 non-null  int64  \n",
      " 1   STORE_NBR       264836 non-null  int64  \n",
      " 2   LYLTY_CARD_NBR  264836 non-null  int64  \n",
      " 3   TXN_ID          264836 non-null  int64  \n",
      " 4   PROD_NBR        264836 non-null  int64  \n",
      " 5   PROD_NAME       264836 non-null  object \n",
      " 6   PROD_QTY        264836 non-null  int64  \n",
      " 7   TOT_SALES       264836 non-null  float64\n",
      "dtypes: float64(1), int64(6), object(1)\n",
      "memory usage: 16.2+ MB\n"
     ]
    }
   ],
   "source": [
    "df.info()"
   ]
  },
  {
   "cell_type": "markdown",
   "id": "5db66762",
   "metadata": {},
   "source": [
    "We can se that DATE column is an integer instead of a Datetime datattype.This needs to be converted to the right format"
   ]
  },
  {
   "cell_type": "code",
   "execution_count": 7,
   "id": "e0c40811",
   "metadata": {},
   "outputs": [
    {
     "name": "stdout",
     "output_type": "stream",
     "text": [
      "<class 'pandas.core.frame.DataFrame'>\n",
      "RangeIndex: 72637 entries, 0 to 72636\n",
      "Data columns (total 3 columns):\n",
      " #   Column            Non-Null Count  Dtype \n",
      "---  ------            --------------  ----- \n",
      " 0   LYLTY_CARD_NBR    72637 non-null  int64 \n",
      " 1   LIFESTAGE         72637 non-null  object\n",
      " 2   PREMIUM_CUSTOMER  72637 non-null  object\n",
      "dtypes: int64(1), object(2)\n",
      "memory usage: 1.7+ MB\n"
     ]
    }
   ],
   "source": [
    "data.info()"
   ]
  },
  {
   "cell_type": "code",
   "execution_count": 8,
   "id": "3b00c8c6",
   "metadata": {},
   "outputs": [
    {
     "data": {
      "text/html": [
       "<div>\n",
       "<style scoped>\n",
       "    .dataframe tbody tr th:only-of-type {\n",
       "        vertical-align: middle;\n",
       "    }\n",
       "\n",
       "    .dataframe tbody tr th {\n",
       "        vertical-align: top;\n",
       "    }\n",
       "\n",
       "    .dataframe thead th {\n",
       "        text-align: right;\n",
       "    }\n",
       "</style>\n",
       "<table border=\"1\" class=\"dataframe\">\n",
       "  <thead>\n",
       "    <tr style=\"text-align: right;\">\n",
       "      <th></th>\n",
       "      <th>DATE</th>\n",
       "      <th>STORE_NBR</th>\n",
       "      <th>LYLTY_CARD_NBR</th>\n",
       "      <th>TXN_ID</th>\n",
       "      <th>PROD_NBR</th>\n",
       "      <th>PROD_NAME</th>\n",
       "      <th>PROD_QTY</th>\n",
       "      <th>TOT_SALES</th>\n",
       "    </tr>\n",
       "  </thead>\n",
       "  <tbody>\n",
       "    <tr>\n",
       "      <th>0</th>\n",
       "      <td>43390</td>\n",
       "      <td>1</td>\n",
       "      <td>1000</td>\n",
       "      <td>1</td>\n",
       "      <td>5</td>\n",
       "      <td>Natural Chip        Compny SeaSalt175g</td>\n",
       "      <td>2</td>\n",
       "      <td>6.0</td>\n",
       "    </tr>\n",
       "    <tr>\n",
       "      <th>1</th>\n",
       "      <td>43599</td>\n",
       "      <td>1</td>\n",
       "      <td>1307</td>\n",
       "      <td>348</td>\n",
       "      <td>66</td>\n",
       "      <td>CCs Nacho Cheese    175g</td>\n",
       "      <td>3</td>\n",
       "      <td>6.3</td>\n",
       "    </tr>\n",
       "    <tr>\n",
       "      <th>2</th>\n",
       "      <td>43605</td>\n",
       "      <td>1</td>\n",
       "      <td>1343</td>\n",
       "      <td>383</td>\n",
       "      <td>61</td>\n",
       "      <td>Smiths Crinkle Cut  Chips Chicken 170g</td>\n",
       "      <td>2</td>\n",
       "      <td>2.9</td>\n",
       "    </tr>\n",
       "    <tr>\n",
       "      <th>3</th>\n",
       "      <td>43329</td>\n",
       "      <td>2</td>\n",
       "      <td>2373</td>\n",
       "      <td>974</td>\n",
       "      <td>69</td>\n",
       "      <td>Smiths Chip Thinly  S/Cream&amp;Onion 175g</td>\n",
       "      <td>5</td>\n",
       "      <td>15.0</td>\n",
       "    </tr>\n",
       "    <tr>\n",
       "      <th>4</th>\n",
       "      <td>43330</td>\n",
       "      <td>2</td>\n",
       "      <td>2426</td>\n",
       "      <td>1038</td>\n",
       "      <td>108</td>\n",
       "      <td>Kettle Tortilla ChpsHny&amp;Jlpno Chili 150g</td>\n",
       "      <td>3</td>\n",
       "      <td>13.8</td>\n",
       "    </tr>\n",
       "  </tbody>\n",
       "</table>\n",
       "</div>"
      ],
      "text/plain": [
       "    DATE  STORE_NBR  LYLTY_CARD_NBR  TXN_ID  PROD_NBR   \n",
       "0  43390          1            1000       1         5  \\\n",
       "1  43599          1            1307     348        66   \n",
       "2  43605          1            1343     383        61   \n",
       "3  43329          2            2373     974        69   \n",
       "4  43330          2            2426    1038       108   \n",
       "\n",
       "                                  PROD_NAME  PROD_QTY  TOT_SALES  \n",
       "0    Natural Chip        Compny SeaSalt175g         2        6.0  \n",
       "1                  CCs Nacho Cheese    175g         3        6.3  \n",
       "2    Smiths Crinkle Cut  Chips Chicken 170g         2        2.9  \n",
       "3    Smiths Chip Thinly  S/Cream&Onion 175g         5       15.0  \n",
       "4  Kettle Tortilla ChpsHny&Jlpno Chili 150g         3       13.8  "
      ]
     },
     "execution_count": 8,
     "metadata": {},
     "output_type": "execute_result"
    }
   ],
   "source": [
    "df.head()"
   ]
  },
  {
   "cell_type": "code",
   "execution_count": 9,
   "id": "97c791e2",
   "metadata": {},
   "outputs": [
    {
     "data": {
      "text/html": [
       "<div>\n",
       "<style scoped>\n",
       "    .dataframe tbody tr th:only-of-type {\n",
       "        vertical-align: middle;\n",
       "    }\n",
       "\n",
       "    .dataframe tbody tr th {\n",
       "        vertical-align: top;\n",
       "    }\n",
       "\n",
       "    .dataframe thead th {\n",
       "        text-align: right;\n",
       "    }\n",
       "</style>\n",
       "<table border=\"1\" class=\"dataframe\">\n",
       "  <thead>\n",
       "    <tr style=\"text-align: right;\">\n",
       "      <th></th>\n",
       "      <th>LYLTY_CARD_NBR</th>\n",
       "      <th>LIFESTAGE</th>\n",
       "      <th>PREMIUM_CUSTOMER</th>\n",
       "    </tr>\n",
       "  </thead>\n",
       "  <tbody>\n",
       "    <tr>\n",
       "      <th>0</th>\n",
       "      <td>1000</td>\n",
       "      <td>YOUNG SINGLES/COUPLES</td>\n",
       "      <td>Premium</td>\n",
       "    </tr>\n",
       "    <tr>\n",
       "      <th>1</th>\n",
       "      <td>1002</td>\n",
       "      <td>YOUNG SINGLES/COUPLES</td>\n",
       "      <td>Mainstream</td>\n",
       "    </tr>\n",
       "    <tr>\n",
       "      <th>2</th>\n",
       "      <td>1003</td>\n",
       "      <td>YOUNG FAMILIES</td>\n",
       "      <td>Budget</td>\n",
       "    </tr>\n",
       "    <tr>\n",
       "      <th>3</th>\n",
       "      <td>1004</td>\n",
       "      <td>OLDER SINGLES/COUPLES</td>\n",
       "      <td>Mainstream</td>\n",
       "    </tr>\n",
       "    <tr>\n",
       "      <th>4</th>\n",
       "      <td>1005</td>\n",
       "      <td>MIDAGE SINGLES/COUPLES</td>\n",
       "      <td>Mainstream</td>\n",
       "    </tr>\n",
       "  </tbody>\n",
       "</table>\n",
       "</div>"
      ],
      "text/plain": [
       "   LYLTY_CARD_NBR               LIFESTAGE PREMIUM_CUSTOMER\n",
       "0            1000   YOUNG SINGLES/COUPLES          Premium\n",
       "1            1002   YOUNG SINGLES/COUPLES       Mainstream\n",
       "2            1003          YOUNG FAMILIES           Budget\n",
       "3            1004   OLDER SINGLES/COUPLES       Mainstream\n",
       "4            1005  MIDAGE SINGLES/COUPLES       Mainstream"
      ]
     },
     "execution_count": 9,
     "metadata": {},
     "output_type": "execute_result"
    }
   ],
   "source": [
    "data.head()"
   ]
  },
  {
   "cell_type": "markdown",
   "id": "cca8e5bf",
   "metadata": {},
   "source": [
    " Both datasets have the LYLTY_CARD_NBR column which will be the key to merge them togethe"
   ]
  },
  {
   "cell_type": "markdown",
   "id": "52d7b5d3",
   "metadata": {},
   "source": [
    "# Data Cleaning"
   ]
  },
  {
   "cell_type": "markdown",
   "id": "4bbf9572",
   "metadata": {},
   "source": [
    "## Handling Missing Values NaN\n",
    "1.NaN also known as Not a Number represent missing values in te data that cannot be converted into any datatype other than float.\n",
    "\n",
    "2.Missing values occur when no information is provided for one or more feautures or for the entire unit.\n",
    "\n",
    "3.NaN values can impact various data operations, such as arithmetic computations, statistical analysis, and machine learning algorihms, skew results and introduce bias in satistical meausures like mean, median and correlations"
   ]
  },
  {
   "cell_type": "code",
   "execution_count": 10,
   "id": "cb54f6f0",
   "metadata": {},
   "outputs": [
    {
     "data": {
      "text/plain": [
       "DATE              0\n",
       "STORE_NBR         0\n",
       "LYLTY_CARD_NBR    0\n",
       "TXN_ID            0\n",
       "PROD_NBR          0\n",
       "PROD_NAME         0\n",
       "PROD_QTY          0\n",
       "TOT_SALES         0\n",
       "dtype: int64"
      ]
     },
     "execution_count": 10,
     "metadata": {},
     "output_type": "execute_result"
    }
   ],
   "source": [
    "#Check for missing values on transaction dataset\n",
    "df.isna().sum()"
   ]
  },
  {
   "cell_type": "markdown",
   "id": "f6c2c7f6",
   "metadata": {},
   "source": [
    "We can see that the dataset contains No missing values on all the columns"
   ]
  },
  {
   "cell_type": "code",
   "execution_count": 11,
   "id": "390d63ee",
   "metadata": {},
   "outputs": [
    {
     "data": {
      "text/plain": [
       "LYLTY_CARD_NBR      0\n",
       "LIFESTAGE           0\n",
       "PREMIUM_CUSTOMER    0\n",
       "dtype: int64"
      ]
     },
     "execution_count": 11,
     "metadata": {},
     "output_type": "execute_result"
    }
   ],
   "source": [
    "#check for missing values on purchase behaviour dataset\n",
    "data.isnull().sum()"
   ]
  },
  {
   "cell_type": "markdown",
   "id": "a59a91be",
   "metadata": {},
   "source": [
    "There are no missing values in the dataset"
   ]
  },
  {
   "cell_type": "markdown",
   "id": "f6ad0f8c",
   "metadata": {},
   "source": [
    "### Converting DATE integer to datetime\n",
    "1.The numbers provided in the DATE column, like 43390 and 43329, are likely in Excel's date format. Excel represents dates as the number of days since January 1, 1900 (with some exceptions for handling leap years).\n",
    "\n",
    "2.To convert these Excel date numbers into a more human-readable date format, we can use the 'xlrd' library in Python."
   ]
  },
  {
   "cell_type": "code",
   "execution_count": 12,
   "id": "5c5a09e1",
   "metadata": {},
   "outputs": [],
   "source": [
    "import xlrd\n",
    "from datetime import datetime\n",
    "\n",
    "def convert_excel_date(excel_date):\n",
    "    date_value = xlrd.xldate_as_tuple(excel_date, 0)\n",
    "    return datetime(*date_value)\n",
    "\n",
    "# Assuming 'df' is your DataFrame and 'Date' is the column containing Excel date numbers\n",
    "df['DATE'] = df['DATE'].apply(convert_excel_date)"
   ]
  },
  {
   "cell_type": "code",
   "execution_count": 13,
   "id": "e918c9d8",
   "metadata": {},
   "outputs": [
    {
     "data": {
      "text/html": [
       "<div>\n",
       "<style scoped>\n",
       "    .dataframe tbody tr th:only-of-type {\n",
       "        vertical-align: middle;\n",
       "    }\n",
       "\n",
       "    .dataframe tbody tr th {\n",
       "        vertical-align: top;\n",
       "    }\n",
       "\n",
       "    .dataframe thead th {\n",
       "        text-align: right;\n",
       "    }\n",
       "</style>\n",
       "<table border=\"1\" class=\"dataframe\">\n",
       "  <thead>\n",
       "    <tr style=\"text-align: right;\">\n",
       "      <th></th>\n",
       "      <th>DATE</th>\n",
       "      <th>STORE_NBR</th>\n",
       "      <th>LYLTY_CARD_NBR</th>\n",
       "      <th>TXN_ID</th>\n",
       "      <th>PROD_NBR</th>\n",
       "      <th>PROD_NAME</th>\n",
       "      <th>PROD_QTY</th>\n",
       "      <th>TOT_SALES</th>\n",
       "    </tr>\n",
       "  </thead>\n",
       "  <tbody>\n",
       "    <tr>\n",
       "      <th>0</th>\n",
       "      <td>2018-10-17</td>\n",
       "      <td>1</td>\n",
       "      <td>1000</td>\n",
       "      <td>1</td>\n",
       "      <td>5</td>\n",
       "      <td>Natural Chip        Compny SeaSalt175g</td>\n",
       "      <td>2</td>\n",
       "      <td>6.0</td>\n",
       "    </tr>\n",
       "    <tr>\n",
       "      <th>1</th>\n",
       "      <td>2019-05-14</td>\n",
       "      <td>1</td>\n",
       "      <td>1307</td>\n",
       "      <td>348</td>\n",
       "      <td>66</td>\n",
       "      <td>CCs Nacho Cheese    175g</td>\n",
       "      <td>3</td>\n",
       "      <td>6.3</td>\n",
       "    </tr>\n",
       "    <tr>\n",
       "      <th>2</th>\n",
       "      <td>2019-05-20</td>\n",
       "      <td>1</td>\n",
       "      <td>1343</td>\n",
       "      <td>383</td>\n",
       "      <td>61</td>\n",
       "      <td>Smiths Crinkle Cut  Chips Chicken 170g</td>\n",
       "      <td>2</td>\n",
       "      <td>2.9</td>\n",
       "    </tr>\n",
       "    <tr>\n",
       "      <th>3</th>\n",
       "      <td>2018-08-17</td>\n",
       "      <td>2</td>\n",
       "      <td>2373</td>\n",
       "      <td>974</td>\n",
       "      <td>69</td>\n",
       "      <td>Smiths Chip Thinly  S/Cream&amp;Onion 175g</td>\n",
       "      <td>5</td>\n",
       "      <td>15.0</td>\n",
       "    </tr>\n",
       "    <tr>\n",
       "      <th>4</th>\n",
       "      <td>2018-08-18</td>\n",
       "      <td>2</td>\n",
       "      <td>2426</td>\n",
       "      <td>1038</td>\n",
       "      <td>108</td>\n",
       "      <td>Kettle Tortilla ChpsHny&amp;Jlpno Chili 150g</td>\n",
       "      <td>3</td>\n",
       "      <td>13.8</td>\n",
       "    </tr>\n",
       "  </tbody>\n",
       "</table>\n",
       "</div>"
      ],
      "text/plain": [
       "        DATE  STORE_NBR  LYLTY_CARD_NBR  TXN_ID  PROD_NBR   \n",
       "0 2018-10-17          1            1000       1         5  \\\n",
       "1 2019-05-14          1            1307     348        66   \n",
       "2 2019-05-20          1            1343     383        61   \n",
       "3 2018-08-17          2            2373     974        69   \n",
       "4 2018-08-18          2            2426    1038       108   \n",
       "\n",
       "                                  PROD_NAME  PROD_QTY  TOT_SALES  \n",
       "0    Natural Chip        Compny SeaSalt175g         2        6.0  \n",
       "1                  CCs Nacho Cheese    175g         3        6.3  \n",
       "2    Smiths Crinkle Cut  Chips Chicken 170g         2        2.9  \n",
       "3    Smiths Chip Thinly  S/Cream&Onion 175g         5       15.0  \n",
       "4  Kettle Tortilla ChpsHny&Jlpno Chili 150g         3       13.8  "
      ]
     },
     "execution_count": 13,
     "metadata": {},
     "output_type": "execute_result"
    }
   ],
   "source": [
    "df.head()"
   ]
  },
  {
   "cell_type": "markdown",
   "id": "eba9554e",
   "metadata": {},
   "source": [
    "### Saving the Transaction Data Excel file as a CSV file"
   ]
  },
  {
   "cell_type": "code",
   "execution_count": 14,
   "id": "6f21d3d7",
   "metadata": {},
   "outputs": [],
   "source": [
    "df.to_csv('QVI_Transaction_data.csv', index=False)"
   ]
  },
  {
   "cell_type": "markdown",
   "id": "7f9bd5a0",
   "metadata": {},
   "source": [
    "# Combining the two datasets for EDA\n",
    "1.Both datasets have the LYLTY_CARD_NBR column which will be the key to merge them together.\n",
    "\n",
    "2.We use pd.merge(): a function provided by the pandas library for combining two DataFrames based on a common column or index.\n",
    "\n",
    "3.This operation is useful for combining information from two datasets based on a common identifier (in this case, 'LYLTY_CARD_NBR'). It's commonly used in data manipulation and analysis tasks."
   ]
  },
  {
   "cell_type": "code",
   "execution_count": 15,
   "id": "b3dbb20a",
   "metadata": {},
   "outputs": [],
   "source": [
    "combined_df =pd.merge(df, data, on='LYLTY_CARD_NBR', how='left')"
   ]
  },
  {
   "cell_type": "code",
   "execution_count": 16,
   "id": "7ad4bd79",
   "metadata": {},
   "outputs": [],
   "source": [
    "#Save the combined dataframe\n",
    "combined_df.to_csv('combined_Chips_Sales_data.csv', index=False)"
   ]
  },
  {
   "cell_type": "code",
   "execution_count": 17,
   "id": "9db7e5b0",
   "metadata": {},
   "outputs": [
    {
     "data": {
      "text/html": [
       "<div>\n",
       "<style scoped>\n",
       "    .dataframe tbody tr th:only-of-type {\n",
       "        vertical-align: middle;\n",
       "    }\n",
       "\n",
       "    .dataframe tbody tr th {\n",
       "        vertical-align: top;\n",
       "    }\n",
       "\n",
       "    .dataframe thead th {\n",
       "        text-align: right;\n",
       "    }\n",
       "</style>\n",
       "<table border=\"1\" class=\"dataframe\">\n",
       "  <thead>\n",
       "    <tr style=\"text-align: right;\">\n",
       "      <th></th>\n",
       "      <th>DATE</th>\n",
       "      <th>STORE_NBR</th>\n",
       "      <th>LYLTY_CARD_NBR</th>\n",
       "      <th>TXN_ID</th>\n",
       "      <th>PROD_NBR</th>\n",
       "      <th>PROD_NAME</th>\n",
       "      <th>PROD_QTY</th>\n",
       "      <th>TOT_SALES</th>\n",
       "      <th>LIFESTAGE</th>\n",
       "      <th>PREMIUM_CUSTOMER</th>\n",
       "    </tr>\n",
       "  </thead>\n",
       "  <tbody>\n",
       "    <tr>\n",
       "      <th>0</th>\n",
       "      <td>2018-10-17</td>\n",
       "      <td>1</td>\n",
       "      <td>1000</td>\n",
       "      <td>1</td>\n",
       "      <td>5</td>\n",
       "      <td>Natural Chip        Compny SeaSalt175g</td>\n",
       "      <td>2</td>\n",
       "      <td>6.0</td>\n",
       "      <td>YOUNG SINGLES/COUPLES</td>\n",
       "      <td>Premium</td>\n",
       "    </tr>\n",
       "    <tr>\n",
       "      <th>1</th>\n",
       "      <td>2019-05-14</td>\n",
       "      <td>1</td>\n",
       "      <td>1307</td>\n",
       "      <td>348</td>\n",
       "      <td>66</td>\n",
       "      <td>CCs Nacho Cheese    175g</td>\n",
       "      <td>3</td>\n",
       "      <td>6.3</td>\n",
       "      <td>MIDAGE SINGLES/COUPLES</td>\n",
       "      <td>Budget</td>\n",
       "    </tr>\n",
       "    <tr>\n",
       "      <th>2</th>\n",
       "      <td>2019-05-20</td>\n",
       "      <td>1</td>\n",
       "      <td>1343</td>\n",
       "      <td>383</td>\n",
       "      <td>61</td>\n",
       "      <td>Smiths Crinkle Cut  Chips Chicken 170g</td>\n",
       "      <td>2</td>\n",
       "      <td>2.9</td>\n",
       "      <td>MIDAGE SINGLES/COUPLES</td>\n",
       "      <td>Budget</td>\n",
       "    </tr>\n",
       "    <tr>\n",
       "      <th>3</th>\n",
       "      <td>2018-08-17</td>\n",
       "      <td>2</td>\n",
       "      <td>2373</td>\n",
       "      <td>974</td>\n",
       "      <td>69</td>\n",
       "      <td>Smiths Chip Thinly  S/Cream&amp;Onion 175g</td>\n",
       "      <td>5</td>\n",
       "      <td>15.0</td>\n",
       "      <td>MIDAGE SINGLES/COUPLES</td>\n",
       "      <td>Budget</td>\n",
       "    </tr>\n",
       "    <tr>\n",
       "      <th>4</th>\n",
       "      <td>2018-08-18</td>\n",
       "      <td>2</td>\n",
       "      <td>2426</td>\n",
       "      <td>1038</td>\n",
       "      <td>108</td>\n",
       "      <td>Kettle Tortilla ChpsHny&amp;Jlpno Chili 150g</td>\n",
       "      <td>3</td>\n",
       "      <td>13.8</td>\n",
       "      <td>MIDAGE SINGLES/COUPLES</td>\n",
       "      <td>Budget</td>\n",
       "    </tr>\n",
       "  </tbody>\n",
       "</table>\n",
       "</div>"
      ],
      "text/plain": [
       "        DATE  STORE_NBR  LYLTY_CARD_NBR  TXN_ID  PROD_NBR   \n",
       "0 2018-10-17          1            1000       1         5  \\\n",
       "1 2019-05-14          1            1307     348        66   \n",
       "2 2019-05-20          1            1343     383        61   \n",
       "3 2018-08-17          2            2373     974        69   \n",
       "4 2018-08-18          2            2426    1038       108   \n",
       "\n",
       "                                  PROD_NAME  PROD_QTY  TOT_SALES   \n",
       "0    Natural Chip        Compny SeaSalt175g         2        6.0  \\\n",
       "1                  CCs Nacho Cheese    175g         3        6.3   \n",
       "2    Smiths Crinkle Cut  Chips Chicken 170g         2        2.9   \n",
       "3    Smiths Chip Thinly  S/Cream&Onion 175g         5       15.0   \n",
       "4  Kettle Tortilla ChpsHny&Jlpno Chili 150g         3       13.8   \n",
       "\n",
       "                LIFESTAGE PREMIUM_CUSTOMER  \n",
       "0   YOUNG SINGLES/COUPLES          Premium  \n",
       "1  MIDAGE SINGLES/COUPLES           Budget  \n",
       "2  MIDAGE SINGLES/COUPLES           Budget  \n",
       "3  MIDAGE SINGLES/COUPLES           Budget  \n",
       "4  MIDAGE SINGLES/COUPLES           Budget  "
      ]
     },
     "execution_count": 17,
     "metadata": {},
     "output_type": "execute_result"
    }
   ],
   "source": [
    "#check data in the new dataset\n",
    "combined_df.head()"
   ]
  },
  {
   "cell_type": "code",
   "execution_count": 18,
   "id": "6c9bf0e2",
   "metadata": {},
   "outputs": [
    {
     "data": {
      "text/plain": [
       "DATE                0\n",
       "STORE_NBR           0\n",
       "LYLTY_CARD_NBR      0\n",
       "TXN_ID              0\n",
       "PROD_NBR            0\n",
       "PROD_NAME           0\n",
       "PROD_QTY            0\n",
       "TOT_SALES           0\n",
       "LIFESTAGE           0\n",
       "PREMIUM_CUSTOMER    0\n",
       "dtype: int64"
      ]
     },
     "execution_count": 18,
     "metadata": {},
     "output_type": "execute_result"
    }
   ],
   "source": [
    "#check for missing values\n",
    "combined_df.isnull().sum()"
   ]
  },
  {
   "cell_type": "markdown",
   "id": "0c7028f6",
   "metadata": {},
   "source": [
    "There are no missing values in all the columns of the combined dataframe meaning all rows were matched based on column LYLTY_CARD_NBR"
   ]
  },
  {
   "cell_type": "code",
   "execution_count": 19,
   "id": "995876a5",
   "metadata": {},
   "outputs": [
    {
     "data": {
      "text/html": [
       "<div>\n",
       "<style scoped>\n",
       "    .dataframe tbody tr th:only-of-type {\n",
       "        vertical-align: middle;\n",
       "    }\n",
       "\n",
       "    .dataframe tbody tr th {\n",
       "        vertical-align: top;\n",
       "    }\n",
       "\n",
       "    .dataframe thead th {\n",
       "        text-align: right;\n",
       "    }\n",
       "</style>\n",
       "<table border=\"1\" class=\"dataframe\">\n",
       "  <thead>\n",
       "    <tr style=\"text-align: right;\">\n",
       "      <th></th>\n",
       "      <th>DATE</th>\n",
       "      <th>STORE_NBR</th>\n",
       "      <th>LYLTY_CARD_NBR</th>\n",
       "      <th>TXN_ID</th>\n",
       "      <th>PROD_NBR</th>\n",
       "      <th>PROD_QTY</th>\n",
       "      <th>TOT_SALES</th>\n",
       "    </tr>\n",
       "  </thead>\n",
       "  <tbody>\n",
       "    <tr>\n",
       "      <th>count</th>\n",
       "      <td>264836</td>\n",
       "      <td>264836.00000</td>\n",
       "      <td>2.648360e+05</td>\n",
       "      <td>2.648360e+05</td>\n",
       "      <td>264836.000000</td>\n",
       "      <td>264836.000000</td>\n",
       "      <td>264836.000000</td>\n",
       "    </tr>\n",
       "    <tr>\n",
       "      <th>mean</th>\n",
       "      <td>2018-12-30 00:52:12.879215616</td>\n",
       "      <td>135.08011</td>\n",
       "      <td>1.355495e+05</td>\n",
       "      <td>1.351583e+05</td>\n",
       "      <td>56.583157</td>\n",
       "      <td>1.907309</td>\n",
       "      <td>7.304200</td>\n",
       "    </tr>\n",
       "    <tr>\n",
       "      <th>min</th>\n",
       "      <td>2018-07-01 00:00:00</td>\n",
       "      <td>1.00000</td>\n",
       "      <td>1.000000e+03</td>\n",
       "      <td>1.000000e+00</td>\n",
       "      <td>1.000000</td>\n",
       "      <td>1.000000</td>\n",
       "      <td>1.500000</td>\n",
       "    </tr>\n",
       "    <tr>\n",
       "      <th>25%</th>\n",
       "      <td>2018-09-30 00:00:00</td>\n",
       "      <td>70.00000</td>\n",
       "      <td>7.002100e+04</td>\n",
       "      <td>6.760150e+04</td>\n",
       "      <td>28.000000</td>\n",
       "      <td>2.000000</td>\n",
       "      <td>5.400000</td>\n",
       "    </tr>\n",
       "    <tr>\n",
       "      <th>50%</th>\n",
       "      <td>2018-12-30 00:00:00</td>\n",
       "      <td>130.00000</td>\n",
       "      <td>1.303575e+05</td>\n",
       "      <td>1.351375e+05</td>\n",
       "      <td>56.000000</td>\n",
       "      <td>2.000000</td>\n",
       "      <td>7.400000</td>\n",
       "    </tr>\n",
       "    <tr>\n",
       "      <th>75%</th>\n",
       "      <td>2019-03-31 00:00:00</td>\n",
       "      <td>203.00000</td>\n",
       "      <td>2.030942e+05</td>\n",
       "      <td>2.027012e+05</td>\n",
       "      <td>85.000000</td>\n",
       "      <td>2.000000</td>\n",
       "      <td>9.200000</td>\n",
       "    </tr>\n",
       "    <tr>\n",
       "      <th>max</th>\n",
       "      <td>2019-06-30 00:00:00</td>\n",
       "      <td>272.00000</td>\n",
       "      <td>2.373711e+06</td>\n",
       "      <td>2.415841e+06</td>\n",
       "      <td>114.000000</td>\n",
       "      <td>200.000000</td>\n",
       "      <td>650.000000</td>\n",
       "    </tr>\n",
       "    <tr>\n",
       "      <th>std</th>\n",
       "      <td>NaN</td>\n",
       "      <td>76.78418</td>\n",
       "      <td>8.057998e+04</td>\n",
       "      <td>7.813303e+04</td>\n",
       "      <td>32.826638</td>\n",
       "      <td>0.643654</td>\n",
       "      <td>3.083226</td>\n",
       "    </tr>\n",
       "  </tbody>\n",
       "</table>\n",
       "</div>"
      ],
      "text/plain": [
       "                                DATE     STORE_NBR  LYLTY_CARD_NBR   \n",
       "count                         264836  264836.00000    2.648360e+05  \\\n",
       "mean   2018-12-30 00:52:12.879215616     135.08011    1.355495e+05   \n",
       "min              2018-07-01 00:00:00       1.00000    1.000000e+03   \n",
       "25%              2018-09-30 00:00:00      70.00000    7.002100e+04   \n",
       "50%              2018-12-30 00:00:00     130.00000    1.303575e+05   \n",
       "75%              2019-03-31 00:00:00     203.00000    2.030942e+05   \n",
       "max              2019-06-30 00:00:00     272.00000    2.373711e+06   \n",
       "std                              NaN      76.78418    8.057998e+04   \n",
       "\n",
       "             TXN_ID       PROD_NBR       PROD_QTY      TOT_SALES  \n",
       "count  2.648360e+05  264836.000000  264836.000000  264836.000000  \n",
       "mean   1.351583e+05      56.583157       1.907309       7.304200  \n",
       "min    1.000000e+00       1.000000       1.000000       1.500000  \n",
       "25%    6.760150e+04      28.000000       2.000000       5.400000  \n",
       "50%    1.351375e+05      56.000000       2.000000       7.400000  \n",
       "75%    2.027012e+05      85.000000       2.000000       9.200000  \n",
       "max    2.415841e+06     114.000000     200.000000     650.000000  \n",
       "std    7.813303e+04      32.826638       0.643654       3.083226  "
      ]
     },
     "execution_count": 19,
     "metadata": {},
     "output_type": "execute_result"
    }
   ],
   "source": [
    "combined_df.describe()"
   ]
  },
  {
   "cell_type": "markdown",
   "id": "4df668c7",
   "metadata": {},
   "source": [
    "# EDA"
   ]
  },
  {
   "cell_type": "markdown",
   "id": "3f81410f",
   "metadata": {},
   "source": [
    "EDA typically involves generating descriptive statistics, visualizing data distributions, and identifying relationships between variables. It's an essential step in the data analysis process, as it helps analysts and data scientists get a sense of what the data is actually saying before proceeding to more complex modeling or hypothesis testing."
   ]
  },
  {
   "cell_type": "markdown",
   "id": "addfaf20",
   "metadata": {},
   "source": [
    "#### Who spends the most on chips (total sales), describing customers by lifestage and how premium their general purchasing behaviour is?"
   ]
  },
  {
   "cell_type": "code",
   "execution_count": 20,
   "id": "69660f75",
   "metadata": {},
   "outputs": [
    {
     "name": "stdout",
     "output_type": "stream",
     "text": [
      "The segment '('OLDER FAMILIES', 'Budget')' spends the most on chips with a total sales of $168363.25.\n"
     ]
    }
   ],
   "source": [
    "# Group by lifestage and premium customer, and calculate total sales\n",
    "total_sales_by_segment = combined_df.groupby(['LIFESTAGE', 'PREMIUM_CUSTOMER'])['TOT_SALES'].sum()\n",
    "\n",
    "# Find the segment with the highest total sales\n",
    "top_spender_segment = total_sales_by_segment.idxmax()\n",
    "top_spender_total_sales = total_sales_by_segment.max()\n",
    "\n",
    "print(f\"The segment '{top_spender_segment}' spends the most on chips with a total sales of ${top_spender_total_sales:.2f}.\")"
   ]
  },
  {
   "cell_type": "markdown",
   "id": "120c6426",
   "metadata": {},
   "source": [
    "#### How many customers are in each segment"
   ]
  },
  {
   "cell_type": "code",
   "execution_count": 21,
   "id": "fb86222c",
   "metadata": {},
   "outputs": [
    {
     "name": "stdout",
     "output_type": "stream",
     "text": [
      "LIFESTAGE\n",
      "OLDER SINGLES/COUPLES     54479\n",
      "RETIREES                  49763\n",
      "OLDER FAMILIES            48596\n",
      "YOUNG FAMILIES            43592\n",
      "YOUNG SINGLES/COUPLES     36377\n",
      "MIDAGE SINGLES/COUPLES    25110\n",
      "NEW FAMILIES               6919\n",
      "Name: count, dtype: int64\n"
     ]
    },
    {
     "data": {
      "image/png": "[encoded data removed]",
      "text/plain": [
       "<Figure size 576x576 with 1 Axes>"
      ]
     },
     "metadata": {},
     "output_type": "display_data"
    }
   ],
   "source": [
    "# Count the number of customers in each lifestage category\n",
    "lifestage_counts = combined_df['LIFESTAGE'].value_counts()\n",
    "print(lifestage_counts)\n",
    "\n",
    "# Create a pie chart to visualize the distribution of customers by lifestage\n",
    "plt.figure(figsize=(8, 8))\n",
    "plt.pie(lifestage_counts, labels=lifestage_counts.index, autopct='%1.1f%%', startangle=140, colors=['#66b3ff','#99ff99','#ffcc99','#c2c2f0','#ffb3e6','#c2f0c2','#ff6666'])\n",
    "plt.title('Customer Distribution by Lifestage')\n",
    "plt.show()\n"
   ]
  },
  {
   "cell_type": "markdown",
   "id": "2b28ec88",
   "metadata": {},
   "source": [
    "Older singles/couples contribute to a large number of customers. This suggests that catering to the preferences and needs of \"Older Singles/Couples\" is important for the store's success. "
   ]
  },
  {
   "cell_type": "code",
   "execution_count": 22,
   "id": "d99c435e",
   "metadata": {},
   "outputs": [
    {
     "data": {
      "image/png": "[encoded data removed]",
      "text/plain": [
       "<Figure size 576x576 with 1 Axes>"
      ]
     },
     "metadata": {},
     "output_type": "display_data"
    }
   ],
   "source": [
    "# Count the number of customers in each premium customer category\n",
    "premium_customer_counts = combined_df['PREMIUM_CUSTOMER'].value_counts()\n",
    "\n",
    "# Create a pie chart to visualize the distribution of customers by premium customer category\n",
    "plt.figure(figsize=(8, 8))\n",
    "plt.pie(premium_customer_counts, labels=premium_customer_counts.index, autopct='%1.1f%%', startangle=140, colors=['#66b3ff','#99ff99','#ffcc99'])\n",
    "plt.title('Customer Distribution by Premium Customer Category')\n",
    "plt.show()"
   ]
  },
  {
   "cell_type": "markdown",
   "id": "7cd434df",
   "metadata": {},
   "source": [
    "The higher number of Mainstream customers compared to Budget and Premium customers suggests that the majority of the customer base falls under the Mainstream category. This could indicate that the store's marketing and product offerings are more in line with the preferences and needs of Mainstream customers."
   ]
  },
  {
   "cell_type": "code",
   "execution_count": 23,
   "id": "8202a7f5",
   "metadata": {},
   "outputs": [
    {
     "name": "stdout",
     "output_type": "stream",
     "text": [
      "LIFESTAGE               PREMIUM_CUSTOMER\n",
      "MIDAGE SINGLES/COUPLES  Budget              1504\n",
      "                        Mainstream          3340\n",
      "                        Premium             2431\n",
      "NEW FAMILIES            Budget              1112\n",
      "                        Mainstream           849\n",
      "                        Premium              588\n",
      "OLDER FAMILIES          Budget              4675\n",
      "                        Mainstream          2831\n",
      "                        Premium             2274\n",
      "OLDER SINGLES/COUPLES   Budget              4929\n",
      "                        Mainstream          4930\n",
      "                        Premium             4750\n",
      "RETIREES                Budget              4454\n",
      "                        Mainstream          6479\n",
      "                        Premium             3872\n",
      "YOUNG FAMILIES          Budget              4017\n",
      "                        Mainstream          2728\n",
      "                        Premium             2433\n",
      "YOUNG SINGLES/COUPLES   Budget              3779\n",
      "                        Mainstream          8088\n",
      "                        Premium             2574\n",
      "Name: LYLTY_CARD_NBR, dtype: int64\n"
     ]
    }
   ],
   "source": [
    "# Count the number of unique customers in each segment\n",
    "customer_count_by_segment = combined_df.groupby(['LIFESTAGE', 'PREMIUM_CUSTOMER'])['LYLTY_CARD_NBR'].nunique()\n",
    "print(customer_count_by_segment)"
   ]
  },
  {
   "cell_type": "markdown",
   "id": "446dbf03",
   "metadata": {},
   "source": [
    "#### How many chips are bought per customer by segment?"
   ]
  },
  {
   "cell_type": "code",
   "execution_count": 24,
   "id": "b1727101",
   "metadata": {},
   "outputs": [
    {
     "name": "stdout",
     "output_type": "stream",
     "text": [
      "LIFESTAGE               PREMIUM_CUSTOMER\n",
      "MIDAGE SINGLES/COUPLES  Budget              6.313830\n",
      "                        Mainstream          6.796108\n",
      "                        Premium             6.386672\n",
      "NEW FAMILIES            Budget              5.009892\n",
      "                        Mainstream          5.087161\n",
      "                        Premium             5.028912\n",
      "OLDER FAMILIES          Budget              9.639572\n",
      "                        Mainstream          9.804309\n",
      "                        Premium             9.749780\n",
      "OLDER SINGLES/COUPLES   Budget              7.145466\n",
      "                        Mainstream          7.098783\n",
      "                        Premium             7.154947\n",
      "RETIREES                Budget              6.458015\n",
      "                        Mainstream          6.253743\n",
      "                        Premium             6.426653\n",
      "YOUNG FAMILIES          Budget              9.238486\n",
      "                        Mainstream          9.180352\n",
      "                        Premium             9.209207\n",
      "YOUNG SINGLES/COUPLES   Budget              4.411485\n",
      "                        Mainstream          4.776459\n",
      "                        Premium             4.402098\n",
      "dtype: float64\n"
     ]
    },
    {
     "data": {
      "image/png": "[encoded data removed]",
      "text/plain": [
       "<Figure size 720x432 with 1 Axes>"
      ]
     },
     "metadata": {
      "needs_background": "light"
     },
     "output_type": "display_data"
    }
   ],
   "source": [
    "# Group by lifestage and premium customer, and calculate total quantity of chips\n",
    "total_chips_by_segment = combined_df.groupby(['LIFESTAGE', 'PREMIUM_CUSTOMER'])['PROD_QTY'].sum()\n",
    "\n",
    "# Divide total chips by number of customers in each segment to get chips per customer\n",
    "chips_per_customer_by_segment = total_chips_by_segment / customer_count_by_segment\n",
    "print(chips_per_customer_by_segment)\n",
    "\n",
    "import matplotlib.pyplot as plt\n",
    "\n",
    "# Create a bar plot\n",
    "plt.figure(figsize=(10, 6))\n",
    "chips_per_customer_by_segment.plot(kind='bar', color='skyblue')\n",
    "plt.xlabel('Customer Segment')\n",
    "plt.ylabel('Chips per Customer')\n",
    "plt.title('Average Chips per Customer by Segment')\n",
    "plt.xticks(rotation=90)\n",
    "plt.tight_layout()\n",
    "\n",
    "# Show the plot\n",
    "plt.show()\n",
    "\n"
   ]
  },
  {
   "cell_type": "markdown",
   "id": "22775746",
   "metadata": {},
   "source": [
    "\"OLDER FAMILIES\" tend to buy more chips on average compared to other segments, regardless of their premium customer category. On the other hand, \"YOUNG SINGLES/COUPLES\" tend to buy fewer chips on average. "
   ]
  },
  {
   "cell_type": "markdown",
   "id": "8279685d",
   "metadata": {},
   "source": [
    "#### What's the average chip price by customer segment"
   ]
  },
  {
   "cell_type": "code",
   "execution_count": 25,
   "id": "6439f5bf",
   "metadata": {},
   "outputs": [
    {
     "name": "stdout",
     "output_type": "stream",
     "text": [
      "LIFESTAGE               PREMIUM_CUSTOMER\n",
      "MIDAGE SINGLES/COUPLES  Budget              3.739975\n",
      "                        Mainstream          4.000346\n",
      "                        Premium             3.763535\n",
      "NEW FAMILIES            Budget              3.936178\n",
      "                        Mainstream          3.939315\n",
      "                        Premium             3.886067\n",
      "OLDER FAMILIES          Budget              3.736009\n",
      "                        Mainstream          3.726962\n",
      "                        Premium             3.696649\n",
      "OLDER SINGLES/COUPLES   Budget              3.883299\n",
      "                        Mainstream          3.811578\n",
      "                        Premium             3.891695\n",
      "RETIREES                Budget              3.933660\n",
      "                        Mainstream          3.842170\n",
      "                        Premium             3.924050\n",
      "YOUNG FAMILIES          Budget              3.754840\n",
      "                        Mainstream          3.705029\n",
      "                        Premium             3.750134\n",
      "YOUNG SINGLES/COUPLES   Budget              3.667542\n",
      "                        Mainstream          4.080079\n",
      "                        Premium             3.675060\n",
      "dtype: float64\n"
     ]
    }
   ],
   "source": [
    "# Calculate average chip price by dividing total sales by total quantity of chips\n",
    "average_chip_price_by_segment = total_sales_by_segment / total_chips_by_segment\n",
    "print(average_chip_price_by_segment)\n"
   ]
  },
  {
   "cell_type": "markdown",
   "id": "b61fd1dd",
   "metadata": {},
   "source": [
    "Mainstream Young Singles/Couples are willing to pay more for chips compared to other segments."
   ]
  },
  {
   "cell_type": "markdown",
   "id": "10b8bfbd",
   "metadata": {},
   "source": [
    "# Drivers of Sales"
   ]
  },
  {
   "cell_type": "code",
   "execution_count": 26,
   "id": "662a0169",
   "metadata": {},
   "outputs": [
    {
     "data": {
      "image/png": "[encoded data removed]",
      "text/plain": [
       "<Figure size 864x576 with 1 Axes>"
      ]
     },
     "metadata": {
      "needs_background": "light"
     },
     "output_type": "display_data"
    }
   ],
   "source": [
    "# Calculate the summary of the number of customers by LIFESTAGE and PREMIUM_CUSTOMER\n",
    "customer_summary = combined_df.groupby(['LIFESTAGE', 'PREMIUM_CUSTOMER'])['LYLTY_CARD_NBR'].nunique().reset_index()\n",
    "\n",
    "# Create a bar plot\n",
    "plt.figure(figsize=(12, 8))\n",
    "sns.barplot(x='LYLTY_CARD_NBR', y='LIFESTAGE', hue='PREMIUM_CUSTOMER', data=customer_summary, orient='h')\n",
    "plt.title('Number of Customers by LIFESTAGE and PREMIUM_CUSTOMER')\n",
    "plt.xlabel('Number of Customers')\n",
    "plt.ylabel('LIFESTAGE')\n",
    "plt.show()"
   ]
  },
  {
   "cell_type": "markdown",
   "id": "c15ae33f",
   "metadata": {},
   "source": [
    "There are more Mainstream - young singles/couples and Mainstream - retirees who buy\n",
    "chips. This contributes to there being more sales to these customer segments.\n",
    "\n",
    "This insight provides valuable information for marketing and sales strategies. For example, focusing on promotional activities or tailored product offerings for \"Mainstream - Young Singles/Couples\" and \"Mainstream - Retirees\" could potentially yield higher returns, as they are the major contributors to chip sales.\n",
    "\n",
    "Conversely, for the \"Budget - Older Families\" segment, other product categories or marketing approaches may be more effective in driving sales."
   ]
  },
  {
   "cell_type": "code",
   "execution_count": 27,
   "id": "a5516387",
   "metadata": {},
   "outputs": [
    {
     "data": {
      "image/png": "[encoded data removed]",
      "text/plain": [
       "<Figure size 864x576 with 1 Axes>"
      ]
     },
     "metadata": {
      "needs_background": "light"
     },
     "output_type": "display_data"
    }
   ],
   "source": [
    "# Calculate summary of sales by LIFESTAGE and PREMIUM_CUSTOMER\n",
    "sales_summary = combined_df.groupby(['LIFESTAGE', 'PREMIUM_CUSTOMER'])['TOT_SALES'].sum().reset_index()\n",
    "# Create a bar plot\n",
    "plt.figure(figsize=(12, 8))\n",
    "sns.barplot(x='TOT_SALES', y='LIFESTAGE', hue='PREMIUM_CUSTOMER', data=sales_summary, orient='h')\n",
    "plt.title('Sales Summary by LIFESTAGE and PREMIUM_CUSTOMER')\n",
    "plt.xlabel('Total Sales')\n",
    "plt.ylabel('LIFESTAGE')\n",
    "plt.show()\n"
   ]
  },
  {
   "cell_type": "markdown",
   "id": "df2b48ee",
   "metadata": {},
   "source": [
    "Sales are coming mainly from Budget - older families, Mainstream - young\n",
    "singles/couples, and Mainstream - retirees"
   ]
  },
  {
   "cell_type": "code",
   "execution_count": 28,
   "id": "b305dc57",
   "metadata": {},
   "outputs": [
    {
     "data": {
      "image/png": "[encoded data removed]",
      "text/plain": [
       "<Figure size 864x576 with 1 Axes>"
      ]
     },
     "metadata": {
      "needs_background": "light"
     },
     "output_type": "display_data"
    }
   ],
   "source": [
    "# Calculate average number of units per customer by LIFESTAGE and PREMIUM_CUSTOMER\n",
    "avg_units_per_customer = combined_df.groupby(['LIFESTAGE', 'PREMIUM_CUSTOMER'])['PROD_QTY'].mean().reset_index()\n",
    "\n",
    "# Create a bar plot\n",
    "plt.figure(figsize=(12, 8))\n",
    "sns.barplot(x='PROD_QTY', y='LIFESTAGE', hue='PREMIUM_CUSTOMER', data=avg_units_per_customer, orient='h')\n",
    "plt.title('Average Number of Units per Customer by LIFESTAGE and PREMIUM_CUSTOMER')\n",
    "plt.xlabel('Average Number of Units per Customer')\n",
    "plt.ylabel('LIFESTAGE')\n",
    "plt.show()\n"
   ]
  },
  {
   "cell_type": "markdown",
   "id": "86cb29b4",
   "metadata": {},
   "source": [
    "Older families and young families in general buy more chips per customer"
   ]
  },
  {
   "cell_type": "code",
   "execution_count": 29,
   "id": "984fbf07",
   "metadata": {},
   "outputs": [
    {
     "data": {
      "image/png": "[encoded data removed]",
      "text/plain": [
       "<Figure size 864x576 with 1 Axes>"
      ]
     },
     "metadata": {
      "needs_background": "light"
     },
     "output_type": "display_data"
    }
   ],
   "source": [
    "# Calculate average price per unit by LIFESTAGE and PREMIUM_CUSTOMER\n",
    "avg_price_per_unit = combined_df.groupby(['LIFESTAGE', 'PREMIUM_CUSTOMER'])['TOT_SALES'].mean() / combined_df.groupby(['LIFESTAGE', 'PREMIUM_CUSTOMER'])['PROD_QTY'].mean()\n",
    "avg_price_per_unit = avg_price_per_unit.reset_index()\n",
    "avg_price_per_unit.columns = ['LIFESTAGE', 'PREMIUM_CUSTOMER', 'AVG_PRICE_PER_UNIT']\n",
    "\n",
    "import seaborn as sns\n",
    "import matplotlib.pyplot as plt\n",
    "\n",
    "# Create a bar plot\n",
    "plt.figure(figsize=(12, 8))\n",
    "sns.barplot(x='AVG_PRICE_PER_UNIT', y='LIFESTAGE', hue='PREMIUM_CUSTOMER', data=avg_price_per_unit, orient='h')\n",
    "plt.title('Average Price per Unit by LIFESTAGE and PREMIUM_CUSTOMER')\n",
    "plt.xlabel('Average Price per Unit')\n",
    "plt.ylabel('LIFESTAGE')\n",
    "plt.show()\n"
   ]
  },
  {
   "cell_type": "markdown",
   "id": "888cf7e4",
   "metadata": {},
   "source": [
    "Mainstream midage and young singles and couples are more willing to pay more per\n",
    "packet of chips compared to their budget and premium counterparts. This may be due\n",
    "to premium shoppers being more likely to buy healthy snacks and when they buy\n",
    "chips, this is mainly for entertainment purposes rather than their own consumption.\n",
    "This is also supported by there being fewer premium midage and young singles and\n",
    "couples buying chips compared to their mainstream counterparts."
   ]
  },
  {
   "attachments": {
    "image.png": {
     "image/png": "[encoded data removed]"
    }
   },
   "cell_type": "markdown",
   "id": "ba5a6d19",
   "metadata": {},
   "source": [
    "## Independent t-test between different customer segments\n",
    "\n",
    "A t-test is a type of inferential statistic used to determine if there is a significant difference between the means of two groups, which may be related in certain features.\n",
    "\n",
    "![image.png](attachment:image.png)\n",
    "\n",
    "\n",
    "If t-value is large => the two groups belong to different groups. \n",
    "If t-value is small => the two groups belong to same group.\n"
   ]
  },
  {
   "cell_type": "code",
   "execution_count": 30,
   "id": "834900ac",
   "metadata": {},
   "outputs": [
    {
     "name": "stdout",
     "output_type": "stream",
     "text": [
      "T-Statistic (Mainstream vs Premium): 4.845150405944483\n",
      "P-Value (Mainstream vs Premium): 1.2662588199681996e-06\n",
      "T-Statistic (Budget Midage vs Young Singles/Couples): -2.1258229043384342\n",
      "P-Value (Budget Midage vs Young Singles/Couples): 0.03352391046715282\n"
     ]
    }
   ],
   "source": [
    "from scipy import stats\n",
    "\n",
    "# Assuming you have a DataFrame called 'combined_df'\n",
    "\n",
    "# Separate Data into Groups\n",
    "mainstream = combined_df[combined_df['PREMIUM_CUSTOMER'] == 'Mainstream']\n",
    "premium = combined_df[combined_df['PREMIUM_CUSTOMER'] == 'Premium']\n",
    "budget_midage = combined_df[(combined_df['LIFESTAGE'] == 'MIDAGE SINGLES/COUPLES') & (combined_df['PREMIUM_CUSTOMER'] == 'Budget')]\n",
    "young_singles_couples = combined_df[combined_df['LIFESTAGE'] == 'YOUNG SINGLES/COUPLES']\n",
    "\n",
    "# Perform t-test\n",
    "t_stat_mainstream_premium, p_value_mainstream_premium = stats.ttest_ind(mainstream['TOT_SALES'], premium['TOT_SALES'])\n",
    "t_stat_budget_midage_young, p_value_budget_midage_young = stats.ttest_ind(budget_midage['TOT_SALES'], young_singles_couples['TOT_SALES'])\n",
    "\n",
    "# Print the t-statistic and p-value for each test\n",
    "print(f\"T-Statistic (Mainstream vs Premium): {t_stat_mainstream_premium}\")\n",
    "print(f\"P-Value (Mainstream vs Premium): {p_value_mainstream_premium}\")\n",
    "print(f\"T-Statistic (Budget Midage vs Young Singles/Couples): {t_stat_budget_midage_young}\")\n",
    "print(f\"P-Value (Budget Midage vs Young Singles/Couples): {p_value_budget_midage_young}\")\n"
   ]
  },
  {
   "cell_type": "markdown",
   "id": "1baafaaa",
   "metadata": {},
   "source": [
    "The independent t-tests have been performed with the following results:\n",
    "\n",
    "For the comparison between Mainstream and Premium segments:\n",
    "\n",
    "T-Statistic: 4.85\n",
    "\n",
    "P-Value: 1.27e-06 (very close to zero)\n",
    "\n",
    "For the comparison between Budget Midage and Young Singles/Couples:\n",
    "\n",
    "T-Statistic: -2.13  \n",
    "\n",
    "P-Value: 0.034\n",
    "\n",
    "Interpretation:\n",
    "Mainstream vs Premium:\n",
    "\n",
    "T-Statistic: 4.85\n",
    "P-Value: 1.27e-06 (extremely small)\n",
    "Since the p-value is extremely small (much less than the commonly used significance level of 0.05), we reject the null hypothesis. This indicates that there is a significant difference between the total sales of customers in the Mainstream and Premium segments.\n",
    "\n",
    "Budget Midage vs Young Singles/Couples:\n",
    "\n",
    "T-Statistic: -2.13\n",
    "P-Value: 0.034\n",
    "The p-value is less than 0.05, so we reject the null hypothesis. This means that there is a significant difference in total sales between the Budget Midage and Young Singles/Couples segments.\n",
    "\n",
    "In both cases, the t-statistic indicates the magnitude of the difference between the means of the two groups. The negative sign of the t-statistic in the second comparison simply indicates that the means are in opposite directions (one group has a higher mean than the other). This doesn't affect the significance of the result."
   ]
  },
  {
   "cell_type": "markdown",
   "id": "bf244715",
   "metadata": {},
   "source": [
    "### preferred pack size for the \"Mainstream, young singles/couples\" segment compared to the rest of the population"
   ]
  },
  {
   "cell_type": "code",
   "execution_count": 31,
   "id": "aa42f4ec",
   "metadata": {},
   "outputs": [
    {
     "name": "stdout",
     "output_type": "stream",
     "text": [
      "Preferred Pack Size for Mainstream, Young Singles/Couples: 175g\n",
      "Preferred Pack Size for Rest of the Population: 175g\n"
     ]
    }
   ],
   "source": [
    "# Assuming 'combined_df' is the DataFrame containing the data\n",
    "\n",
    "# Create a copy of the DataFrame to avoid SettingWithCopy warning\n",
    "pack_sizes_population = combined_df[['PROD_NAME', 'PROD_QTY']].copy()\n",
    "\n",
    "# Extract pack sizes\n",
    "pack_sizes_population.loc[:, 'PACK_SIZE'] = pack_sizes_population['PROD_NAME'].str.extract('(\\d+)').astype(int)\n",
    "\n",
    "# Calculate preferred pack size\n",
    "preferred_pack_size_population = pack_sizes_population['PACK_SIZE'].mode().values[0]\n",
    "\n",
    "# Assuming 'PROD_NAME' contains pack size information (e.g., '175g')\n",
    "pack_sizes_mainstream_young = combined_df.loc[(combined_df['LIFESTAGE'] == 'YOUNG SINGLES/COUPLES') & (combined_df['PREMIUM_CUSTOMER'] == 'Mainstream'), ['PROD_NAME', 'PROD_QTY']].copy()\n",
    "pack_sizes_mainstream_young.loc[:, 'PACK_SIZE'] = pack_sizes_mainstream_young['PROD_NAME'].str.extract('(\\d+)').astype(int)\n",
    "\n",
    "# Calculate the preferred pack size\n",
    "preferred_pack_size_mainstream_young = pack_sizes_mainstream_young['PACK_SIZE'].mode().values[0]\n",
    "\n",
    "# Calculate pack size preferences for the entire population\n",
    "pack_sizes_population = combined_df[['PROD_NAME', 'PROD_QTY']].copy()\n",
    "pack_sizes_population.loc[:, 'PACK_SIZE'] = pack_sizes_population['PROD_NAME'].str.extract('(\\d+)').astype(int)\n",
    "\n",
    "preferred_pack_size_population = pack_sizes_population['PACK_SIZE'].mode().values[0]\n",
    "\n",
    "print(f\"Preferred Pack Size for Mainstream, Young Singles/Couples: {preferred_pack_size_mainstream_young}g\")\n",
    "print(f\"Preferred Pack Size for Rest of the Population: {preferred_pack_size_population}g\")\n"
   ]
  }
 ],
 "metadata": {
  "kernelspec": {
   "display_name": "Python 3",
   "language": "python",
   "name": "python3"
  },
  "language_info": {
   "codemirror_mode": {
    "name": "ipython",
    "version": 3
   },
   "file_extension": ".py",
   "mimetype": "text/x-python",
   "name": "python",
   "nbconvert_exporter": "python",
   "pygments_lexer": "ipython3",
   "version": "3.8.8"
  }
 },
 "nbformat": 4,
 "nbformat_minor": 5
}
